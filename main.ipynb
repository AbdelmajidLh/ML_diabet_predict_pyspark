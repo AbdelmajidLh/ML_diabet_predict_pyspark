{
  "nbformat": 4,
  "nbformat_minor": 0,
  "metadata": {
    "colab": {
      "provenance": []
    },
    "kernelspec": {
      "name": "python3",
      "display_name": "Python 3"
    },
    "language_info": {
      "name": "python"
    }
  },
  "cells": [
    {
      "cell_type": "markdown",
      "source": [
        "# PysPark ML Lib - Prédiction du diabète par régression logistique\n",
        "\n",
        "> Réalisé par : Abdelmajid EL HOU - Consultant Data <br>\n",
        "[ePortfolio](https://abdelmajidlh.github.io/ePortfolio/)  | [Github](https://github.com/AbdelmajidLh) | [Linkedin](https://www.linkedin.com/in/aelhou/)"
      ],
      "metadata": {
        "id": "dYepVnH0CD_9"
      }
    },
    {
      "cell_type": "markdown",
      "source": [
        "## Contexte & Objectif"
      ],
      "metadata": {
        "id": "yNSp8ldXKtg3"
      }
    },
    {
      "cell_type": "markdown",
      "source": [
        "Le jeu de données provient du *National Institute of Diabetes and Digestive and Kidney Diseases*. L'objectif est de **prédire**, à partir de mesures diagnostiques, si un patient est diabétique. \n",
        "\n",
        "Le dataset est composé uniquement de femmes (> 21 ans) et est disponible sur Kaggle ([lien ici](https://www.kaggle.com/datasets/mathchi/diabetes-data-set))."
      ],
      "metadata": {
        "id": "-KtZaAKvKzdg"
      }
    },
    {
      "cell_type": "markdown",
      "source": [
        "## Installation & importation des librairies"
      ],
      "metadata": {
        "id": "mT-66oFxE9Qg"
      }
    },
    {
      "cell_type": "code",
      "execution_count": 45,
      "metadata": {
        "id": "9bKob1hqBsjz"
      },
      "outputs": [],
      "source": [
        "# installation des librairies\n",
        "#! pip install pyspark\n",
        "\n",
        "from pyspark.sql import SparkSession\n",
        "from pyspark.sql.functions import *\n",
        "from pyspark.ml.feature import VectorAssembler\n",
        "from pyspark.ml.classification import LogisticRegression\n",
        "from pyspark.ml.evaluation import BinaryClassificationEvaluator\n",
        "from pyspark.ml.classification import LogisticRegressionModel\n",
        "import pandas as ps"
      ]
    },
    {
      "cell_type": "markdown",
      "source": [
        "## lancer une session Spark (sparkSession)"
      ],
      "metadata": {
        "id": "4tLrCohkFjw9"
      }
    },
    {
      "cell_type": "markdown",
      "source": [
        "Ce code crée une nouvelle session `Spark`.\n",
        "\n",
        "La méthode `SparkSession.builder()` crée un nouveau builder pour construire une session `Spark`. L'appel à `appName(\"spark\")` définit le nom de l'application Spark. Enfin, `getOrCreate()` crée une nouvelle session Spark si elle n'existe pas déjà, ou retourne la session existante si elle existe. La nouvelle session Spark est stockée dans la variable `spark`."
      ],
      "metadata": {
        "id": "qDAWsLgpHBBT"
      }
    },
    {
      "cell_type": "code",
      "source": [
        "spark = SparkSession.builder.appName(\"spark\").getOrCreate()"
      ],
      "metadata": {
        "id": "BGfjUA9JGbcL"
      },
      "execution_count": 4,
      "outputs": []
    },
    {
      "cell_type": "markdown",
      "source": [
        "## Importation & exploration des données"
      ],
      "metadata": {
        "id": "cIjaZwF-IcQk"
      }
    },
    {
      "cell_type": "markdown",
      "source": [
        "Le dataset est téléchargé à partir de github. Ces données viennent de Kaggle.\n",
        "\n"
      ],
      "metadata": {
        "id": "X1d2-xTUJxC1"
      }
    },
    {
      "cell_type": "code",
      "source": [
        "#! git clone https://github.com/education454/diabetes_dataset\n",
        "df = spark.read.csv('diabetes_dataset/diabetes.csv', header = True, inferSchema=True) # predit le type de colonnes\n",
        "df.show(6)"
      ],
      "metadata": {
        "colab": {
          "base_uri": "https://localhost:8080/"
        },
        "id": "QxwuHSH-If1Q",
        "outputId": "bea567dc-cd30-4634-a600-88d1c063081d"
      },
      "execution_count": 5,
      "outputs": [
        {
          "output_type": "stream",
          "name": "stdout",
          "text": [
            "Cloning into 'diabetes_dataset'...\n",
            "remote: Enumerating objects: 6, done.\u001b[K\n",
            "remote: Counting objects: 100% (6/6), done.\u001b[K\n",
            "remote: Compressing objects: 100% (5/5), done.\u001b[K\n",
            "remote: Total 6 (delta 0), reused 0 (delta 0), pack-reused 0\u001b[K\n",
            "Unpacking objects: 100% (6/6), 13.00 KiB | 4.33 MiB/s, done.\n",
            "+-----------+-------+-------------+-------------+-------+----+------------------------+---+-------+\n",
            "|Pregnancies|Glucose|BloodPressure|SkinThickness|Insulin| BMI|DiabetesPedigreeFunction|Age|Outcome|\n",
            "+-----------+-------+-------------+-------------+-------+----+------------------------+---+-------+\n",
            "|          2|    138|           62|           35|      0|33.6|                   0.127| 47|      1|\n",
            "|          0|     84|           82|           31|    125|38.2|                   0.233| 23|      0|\n",
            "|          0|    145|            0|            0|      0|44.2|                    0.63| 31|      1|\n",
            "|          0|    135|           68|           42|    250|42.3|                   0.365| 24|      1|\n",
            "|          1|    139|           62|           41|    480|40.7|                   0.536| 21|      0|\n",
            "|          0|    173|           78|           32|    265|46.5|                   1.159| 58|      0|\n",
            "+-----------+-------+-------------+-------------+-------+----+------------------------+---+-------+\n",
            "only showing top 6 rows\n",
            "\n"
          ]
        }
      ]
    },
    {
      "cell_type": "markdown",
      "source": [
        "la colonne `Outcome` est la variable de sortie. `0 : normal, 1 : diabétique`."
      ],
      "metadata": {
        "id": "6O9-ZNIWWQEb"
      }
    },
    {
      "cell_type": "code",
      "source": [
        "# vérifier le type des colonnes dans le df\n",
        "df.printSchema()"
      ],
      "metadata": {
        "colab": {
          "base_uri": "https://localhost:8080/"
        },
        "id": "3eHbw8jMWMfI",
        "outputId": "95c68f73-9c07-4ec7-f7b7-2c7483556645"
      },
      "execution_count": 6,
      "outputs": [
        {
          "output_type": "stream",
          "name": "stdout",
          "text": [
            "root\n",
            " |-- Pregnancies: integer (nullable = true)\n",
            " |-- Glucose: integer (nullable = true)\n",
            " |-- BloodPressure: integer (nullable = true)\n",
            " |-- SkinThickness: integer (nullable = true)\n",
            " |-- Insulin: integer (nullable = true)\n",
            " |-- BMI: double (nullable = true)\n",
            " |-- DiabetesPedigreeFunction: double (nullable = true)\n",
            " |-- Age: integer (nullable = true)\n",
            " |-- Outcome: integer (nullable = true)\n",
            "\n"
          ]
        }
      ]
    },
    {
      "cell_type": "code",
      "source": [
        "# Vérifier les dimensions du df\n",
        "print(df.count(), ':', len(df.columns))"
      ],
      "metadata": {
        "colab": {
          "base_uri": "https://localhost:8080/"
        },
        "id": "cE7D_mf6Wd4U",
        "outputId": "adf5b9bc-7951-4532-f0ff-bf1395189879"
      },
      "execution_count": 7,
      "outputs": [
        {
          "output_type": "stream",
          "name": "stdout",
          "text": [
            "2000 : 9\n"
          ]
        }
      ]
    },
    {
      "cell_type": "code",
      "source": [
        "# Calculer le nombre de malades et de normaux dans le dataset\n",
        "df.groupBy(\"Outcome\").count().show()"
      ],
      "metadata": {
        "colab": {
          "base_uri": "https://localhost:8080/"
        },
        "id": "m3W_f9bnXWkj",
        "outputId": "25eb256e-096f-4393-f51f-535f6a18428b"
      },
      "execution_count": 8,
      "outputs": [
        {
          "output_type": "stream",
          "name": "stdout",
          "text": [
            "+-------+-----+\n",
            "|Outcome|count|\n",
            "+-------+-----+\n",
            "|      1|  684|\n",
            "|      0| 1316|\n",
            "+-------+-----+\n",
            "\n"
          ]
        }
      ]
    },
    {
      "cell_type": "markdown",
      "source": [
        "* Nous avons 684 malades sur l'ensemble des 2000 individus."
      ],
      "metadata": {
        "id": "Ah1XJSppY3uC"
      }
    },
    {
      "cell_type": "code",
      "source": [
        "# faire un describe sur le df\n",
        "df.describe().show()"
      ],
      "metadata": {
        "colab": {
          "base_uri": "https://localhost:8080/"
        },
        "id": "TzK1auMOZRZN",
        "outputId": "808002cd-2b59-4625-be1e-5b7ab3278a9d"
      },
      "execution_count": 9,
      "outputs": [
        {
          "output_type": "stream",
          "name": "stdout",
          "text": [
            "+-------+-----------------+------------------+------------------+-----------------+-----------------+------------------+------------------------+------------------+------------------+\n",
            "|summary|      Pregnancies|           Glucose|     BloodPressure|    SkinThickness|          Insulin|               BMI|DiabetesPedigreeFunction|               Age|           Outcome|\n",
            "+-------+-----------------+------------------+------------------+-----------------+-----------------+------------------+------------------------+------------------+------------------+\n",
            "|  count|             2000|              2000|              2000|             2000|             2000|              2000|                    2000|              2000|              2000|\n",
            "|   mean|           3.7035|          121.1825|           69.1455|           20.935|           80.254|32.192999999999984|     0.47092999999999974|           33.0905|             0.342|\n",
            "| stddev|3.306063032730656|32.068635649902916|19.188314815604098|16.10324290992682|111.1805335457595| 8.149900701279762|      0.3235525586811429|11.786423106049496|0.4744982342297426|\n",
            "|    min|                0|                 0|                 0|                0|                0|               0.0|                   0.078|                21|                 0|\n",
            "|    max|               17|               199|               122|              110|              744|              80.6|                    2.42|                81|                 1|\n",
            "+-------+-----------------+------------------+------------------+-----------------+-----------------+------------------+------------------------+------------------+------------------+\n",
            "\n"
          ]
        }
      ]
    },
    {
      "cell_type": "markdown",
      "source": [
        "Le tableau montre les statistiques basiques pour les colonnes numériques. La valeur minimale pour le glucose, l'insuline et la pression sanguine est égale à `0` !. Ces valeurs necessitent d'être nettoyées."
      ],
      "metadata": {
        "id": "vUcIpjPdZ5T-"
      }
    },
    {
      "cell_type": "markdown",
      "source": [
        "## Nettoyage des données - data cleaning"
      ],
      "metadata": {
        "id": "xASgRkBuayvb"
      }
    },
    {
      "cell_type": "code",
      "source": [
        "# Vérifier les valeurs manquantes dans le df\n",
        "for col in df.columns:\n",
        "  print(col + \":\", df[df[col].isNull()].count())"
      ],
      "metadata": {
        "colab": {
          "base_uri": "https://localhost:8080/"
        },
        "id": "YZxayIagdWxz",
        "outputId": "8358567d-eec2-4333-eaeb-bdca978cfe9c"
      },
      "execution_count": 10,
      "outputs": [
        {
          "output_type": "stream",
          "name": "stdout",
          "text": [
            "Pregnancies: 0\n",
            "Glucose: 0\n",
            "BloodPressure: 0\n",
            "SkinThickness: 0\n",
            "Insulin: 0\n",
            "BMI: 0\n",
            "DiabetesPedigreeFunction: 0\n",
            "Age: 0\n",
            "Outcome: 0\n"
          ]
        }
      ]
    },
    {
      "cell_type": "markdown",
      "source": [
        "Notre *dataset* ne contiens aucune valeur manquante."
      ],
      "metadata": {
        "id": "zflt95gqfhJ0"
      }
    },
    {
      "cell_type": "code",
      "source": [
        "# créer une fonction pour compter le nombre de valeurs 0 et leur pourcentage par colonne\n",
        "def count_zeros(df, columns):\n",
        "  for col in columns:\n",
        "    num_zeros = df.filter(df[col] == 0).count()\n",
        "    total_rows = df.count()\n",
        "    percentage = (num_zeros / total_rows) * 100\n",
        "    print(\"{} : {} ({:.2f}%)\".format(col, num_zeros, percentage))"
      ],
      "metadata": {
        "id": "t1L5MwSUaz13"
      },
      "execution_count": 11,
      "outputs": []
    },
    {
      "cell_type": "code",
      "source": [
        "liste_cols = ['Glucose', 'Bloodpressure', 'SkinThickness', 'Insulin', 'BMI']\n",
        "count_zeros(df, liste_cols)"
      ],
      "metadata": {
        "colab": {
          "base_uri": "https://localhost:8080/"
        },
        "id": "CSFgLqaTgtHy",
        "outputId": "ae25f29a-cfb2-41de-e97a-2a7593470df5"
      },
      "execution_count": 12,
      "outputs": [
        {
          "output_type": "stream",
          "name": "stdout",
          "text": [
            "Glucose : 13 (0.65%)\n",
            "Bloodpressure : 90 (4.50%)\n",
            "SkinThickness : 573 (28.65%)\n",
            "Insulin : 956 (47.80%)\n",
            "BMI : 28 (1.40%)\n"
          ]
        }
      ]
    },
    {
      "cell_type": "markdown",
      "source": [
        "Ces pourcentages indiquent que la colonne Glucose a le plus faible pourcentage de valeurs nulles, avec seulement 0,65%. La colonne Insulin a le pourcentage le plus élevé de valeurs nulles, avec 47,80%. Les autres colonnes ont des pourcentages de valeurs nulles compris entre 1,40% et 28,65%."
      ],
      "metadata": {
        "id": "onXtck5MmXXh"
      }
    },
    {
      "cell_type": "code",
      "source": [
        "# afficher la valeur moyenne pour chaque colonne et faire le remplacement\n",
        "## méthode 1 :\n",
        "for i in df.columns[1:6]:\n",
        "  mean_val = df.agg({i:'mean'}).first()[0]\n",
        "  print(\"la valeur moyenne de la colonne {} est : {}\".format(i, int(mean_val)))\n",
        "  # update the values : si la condition (val ==0) est vrai\n",
        "  df = df.withColumn(i, when(df[i]==0, int(mean_val)).otherwise(df[i]))\n",
        "\n",
        "df.show(10)"
      ],
      "metadata": {
        "colab": {
          "base_uri": "https://localhost:8080/"
        },
        "id": "dTGs4vC2oBsC",
        "outputId": "f2f38a51-127c-4e54-f661-88af2df03535"
      },
      "execution_count": 13,
      "outputs": [
        {
          "output_type": "stream",
          "name": "stdout",
          "text": [
            "la valeur moyenne de la colonne Glucose est : 121\n",
            "la valeur moyenne de la colonne BloodPressure est : 69\n",
            "la valeur moyenne de la colonne SkinThickness est : 20\n",
            "la valeur moyenne de la colonne Insulin est : 80\n",
            "la valeur moyenne de la colonne BMI est : 32\n",
            "+-----------+-------+-------------+-------------+-------+----+------------------------+---+-------+\n",
            "|Pregnancies|Glucose|BloodPressure|SkinThickness|Insulin| BMI|DiabetesPedigreeFunction|Age|Outcome|\n",
            "+-----------+-------+-------------+-------------+-------+----+------------------------+---+-------+\n",
            "|          2|    138|           62|           35|     80|33.6|                   0.127| 47|      1|\n",
            "|          0|     84|           82|           31|    125|38.2|                   0.233| 23|      0|\n",
            "|          0|    145|           69|           20|     80|44.2|                    0.63| 31|      1|\n",
            "|          0|    135|           68|           42|    250|42.3|                   0.365| 24|      1|\n",
            "|          1|    139|           62|           41|    480|40.7|                   0.536| 21|      0|\n",
            "|          0|    173|           78|           32|    265|46.5|                   1.159| 58|      0|\n",
            "|          4|     99|           72|           17|     80|25.6|                   0.294| 28|      0|\n",
            "|          8|    194|           80|           20|     80|26.1|                   0.551| 67|      0|\n",
            "|          2|     83|           65|           28|     66|36.8|                   0.629| 24|      0|\n",
            "|          2|     89|           90|           30|     80|33.5|                   0.292| 42|      0|\n",
            "+-----------+-------+-------------+-------------+-------+----+------------------------+---+-------+\n",
            "only showing top 10 rows\n",
            "\n"
          ]
        }
      ]
    },
    {
      "cell_type": "markdown",
      "source": [
        "> Les valeurs sont bien remplacées."
      ],
      "metadata": {
        "id": "0ITB-r5quT4R"
      }
    },
    {
      "cell_type": "markdown",
      "source": [
        "## Construire et entrainer le modèle de machine learning\n",
        "### Feature ingeneering"
      ],
      "metadata": {
        "id": "_ssEmfWmDysD"
      }
    },
    {
      "cell_type": "code",
      "source": [
        "# calculer la corrélation entre la variable de réponse et les autres variables\n",
        "for col in df.columns:\n",
        "  print('La correlation de  {} avec la variable outcome est {}.'.format(col, df.stat.corr('Outcome', col)))\n",
        "  #print(f'La correlation de  {col} avec la variable outcome est {df.stat.corr('Outcome', col)}.')"
      ],
      "metadata": {
        "id": "iuikqNwcixIY",
        "colab": {
          "base_uri": "https://localhost:8080/"
        },
        "outputId": "63f01f96-593c-481c-8649-dad11ffe378e"
      },
      "execution_count": 16,
      "outputs": [
        {
          "output_type": "stream",
          "name": "stdout",
          "text": [
            "La correlation de  Pregnancies avec la variable outcome est 0.22443699263363961.\n",
            "La correlation de  Glucose avec la variable outcome est 0.48796646527321064.\n",
            "La correlation de  BloodPressure avec la variable outcome est 0.17171333286446713.\n",
            "La correlation de  SkinThickness avec la variable outcome est 0.1659010662889893.\n",
            "La correlation de  Insulin avec la variable outcome est 0.1711763270226193.\n",
            "La correlation de  BMI avec la variable outcome est 0.2827927569760082.\n",
            "La correlation de  DiabetesPedigreeFunction avec la variable outcome est 0.1554590791569403.\n",
            "La correlation de  Age avec la variable outcome est 0.23650924717620253.\n",
            "La correlation de  Outcome avec la variable outcome est 1.0.\n"
          ]
        }
      ]
    },
    {
      "cell_type": "markdown",
      "source": [
        "Les résultats de corrélation indiquent que certains des facteurs peuvent avoir un impact significatif sur le résultat de la régression logistique. \n",
        "\n",
        "* Les variables `Glucose` et `BMI` ont les **plus fortes corrélations** avec le résultat, ce qui signifie qu'elles sont les plus susceptibles d'avoir un impact sur le résultat de la régression logistique. \n",
        "* Les variables `Pregnancies`, `BloodPressure`, `SkinThickness`, `Insulin` et `DiabetesPedigreeFunction` ont des **corrélations plus faibles** avec le résultat, ce qui signifie qu'elles sont moins susceptibles d'avoir un impact sur le résultat de la régression logistique. \n",
        "* La variable `Age` a une corrélation **modérée** avec le résultat, ce qui signifie qu'elle peut avoir un impact modéré sur le résultat de la régression logistique."
      ],
      "metadata": {
        "id": "GJVa_vSRIogS"
      }
    },
    {
      "cell_type": "code",
      "source": [
        "# creer un vectorAssembler : c'est un feature transformer qui merge les différentes colonnes dans un seul vecteur (features).\n",
        "inputCols = ['Pregnancies' , 'Glucose' , 'BloodPressure', 'SkinThickness' , 'Insulin' , 'BMI' , 'DiabetesPedigreeFunction' ,'Age'  ]\n",
        "assembler = VectorAssembler(inputCols= inputCols, outputCol='features')\n",
        "output_data = assembler.transform(df)"
      ],
      "metadata": {
        "id": "wAFv-CGHFbt3"
      },
      "execution_count": 19,
      "outputs": []
    },
    {
      "cell_type": "code",
      "source": [
        "# vérifier si la colonne features est rajoutée au dataframe\n",
        "output_data.printSchema()"
      ],
      "metadata": {
        "colab": {
          "base_uri": "https://localhost:8080/"
        },
        "id": "CEshPEVBLRi4",
        "outputId": "9a4abd35-9051-4c48-fc20-06ed365f6bf1"
      },
      "execution_count": 20,
      "outputs": [
        {
          "output_type": "stream",
          "name": "stdout",
          "text": [
            "root\n",
            " |-- Pregnancies: integer (nullable = true)\n",
            " |-- Glucose: integer (nullable = true)\n",
            " |-- BloodPressure: integer (nullable = true)\n",
            " |-- SkinThickness: integer (nullable = true)\n",
            " |-- Insulin: integer (nullable = true)\n",
            " |-- BMI: double (nullable = true)\n",
            " |-- DiabetesPedigreeFunction: double (nullable = true)\n",
            " |-- Age: integer (nullable = true)\n",
            " |-- Outcome: integer (nullable = true)\n",
            " |-- features: vector (nullable = true)\n",
            "\n"
          ]
        }
      ]
    },
    {
      "cell_type": "code",
      "source": [
        "# afficher les données (3 lignes)\n",
        "output_data.show(3)"
      ],
      "metadata": {
        "colab": {
          "base_uri": "https://localhost:8080/"
        },
        "id": "z7B9IBYeL5JW",
        "outputId": "a96fb56f-c6b3-405c-cc47-10aff91f5352"
      },
      "execution_count": 23,
      "outputs": [
        {
          "output_type": "stream",
          "name": "stdout",
          "text": [
            "+-----------+-------+-------------+-------------+-------+----+------------------------+---+-------+--------------------+\n",
            "|Pregnancies|Glucose|BloodPressure|SkinThickness|Insulin| BMI|DiabetesPedigreeFunction|Age|Outcome|            features|\n",
            "+-----------+-------+-------------+-------------+-------+----+------------------------+---+-------+--------------------+\n",
            "|          2|    138|           62|           35|     80|33.6|                   0.127| 47|      1|[2.0,138.0,62.0,3...|\n",
            "|          0|     84|           82|           31|    125|38.2|                   0.233| 23|      0|[0.0,84.0,82.0,31...|\n",
            "|          0|    145|           69|           20|     80|44.2|                    0.63| 31|      1|[0.0,145.0,69.0,2...|\n",
            "+-----------+-------+-------------+-------------+-------+----+------------------------+---+-------+--------------------+\n",
            "only showing top 3 rows\n",
            "\n"
          ]
        }
      ]
    },
    {
      "cell_type": "markdown",
      "source": [
        "## Entrainer le modèle"
      ],
      "metadata": {
        "id": "wphB-0V9MYo_"
      }
    },
    {
      "cell_type": "code",
      "source": [
        "# selectionner les colonnes d'interer\n",
        "final_df = output_data.select('features', 'Outcome')\n",
        "final_df.show(2)"
      ],
      "metadata": {
        "colab": {
          "base_uri": "https://localhost:8080/"
        },
        "id": "_Ucnrh5-MH__",
        "outputId": "49ca7d8b-36d7-49c3-cdec-f85f2745cc89"
      },
      "execution_count": 25,
      "outputs": [
        {
          "output_type": "stream",
          "name": "stdout",
          "text": [
            "+--------------------+-------+\n",
            "|            features|Outcome|\n",
            "+--------------------+-------+\n",
            "|[2.0,138.0,62.0,3...|      1|\n",
            "|[0.0,84.0,82.0,31...|      0|\n",
            "+--------------------+-------+\n",
            "only showing top 2 rows\n",
            "\n"
          ]
        }
      ]
    },
    {
      "cell_type": "code",
      "source": [
        "# split to training (70%) and test (30%)\n",
        "train, test = final_df.randomSplit([0.7, 0.3])\n",
        "\n",
        "# créer le modèle\n",
        "models = LogisticRegression(labelCol='Outcome')\n",
        "\n",
        "# entrainer le modèle\n",
        "model = models.fit(train)"
      ],
      "metadata": {
        "id": "H1Hd2iW5M7Kv"
      },
      "execution_count": 26,
      "outputs": []
    },
    {
      "cell_type": "code",
      "source": [
        "# afficher le sommaire\n",
        "summary = model.summary"
      ],
      "metadata": {
        "id": "uwkLQ3p7NrF6"
      },
      "execution_count": 33,
      "outputs": []
    },
    {
      "cell_type": "code",
      "source": [
        "## les prédictions\n",
        "summary.predictions.show()\n",
        "summary.predictions.describe().show()"
      ],
      "metadata": {
        "colab": {
          "base_uri": "https://localhost:8080/"
        },
        "id": "EFM0r2cxOLrQ",
        "outputId": "bb695420-6120-41a1-ee1a-2d89a6028f6d"
      },
      "execution_count": 37,
      "outputs": [
        {
          "output_type": "stream",
          "name": "stdout",
          "text": [
            "+--------------------+-------+--------------------+--------------------+----------+\n",
            "|            features|Outcome|       rawPrediction|         probability|prediction|\n",
            "+--------------------+-------+--------------------+--------------------+----------+\n",
            "|[0.0,57.0,60.0,20...|    0.0|[4.00332216107346...|[0.98207237452611...|       0.0|\n",
            "|[0.0,57.0,60.0,20...|    0.0|[4.00332216107346...|[0.98207237452611...|       0.0|\n",
            "|[0.0,67.0,76.0,20...|    0.0|[2.49183817491278...|[0.92356766128755...|       0.0|\n",
            "|[0.0,67.0,76.0,20...|    0.0|[2.49183817491278...|[0.92356766128755...|       0.0|\n",
            "|[0.0,73.0,69.0,20...|    0.0|[4.30571835570287...|[0.98668839876298...|       0.0|\n",
            "|[0.0,74.0,52.0,10...|    0.0|[3.72867897545375...|[0.97653908603919...|       0.0|\n",
            "|[0.0,74.0,52.0,10...|    0.0|[3.72867897545375...|[0.97653908603919...|       0.0|\n",
            "|[0.0,74.0,52.0,10...|    0.0|[3.72867897545375...|[0.97653908603919...|       0.0|\n",
            "|[0.0,78.0,88.0,29...|    0.0|[2.83901818968011...|[0.94474823506578...|       0.0|\n",
            "|[0.0,84.0,64.0,22...|    0.0|[2.62281665948290...|[0.93231566313563...|       0.0|\n",
            "|[0.0,84.0,82.0,31...|    0.0|[2.77536879386290...|[0.94133019594463...|       0.0|\n",
            "|[0.0,84.0,82.0,31...|    0.0|[2.77536879386290...|[0.94133019594463...|       0.0|\n",
            "|[0.0,84.0,82.0,31...|    0.0|[2.77536879386290...|[0.94133019594463...|       0.0|\n",
            "|[0.0,86.0,68.0,32...|    0.0|[2.74981927497843...|[0.93990314234395...|       0.0|\n",
            "|[0.0,86.0,68.0,32...|    0.0|[2.74981927497843...|[0.93990314234395...|       0.0|\n",
            "|[0.0,91.0,68.0,32...|    0.0|[2.37396197071794...|[0.91482010212770...|       0.0|\n",
            "|[0.0,91.0,68.0,32...|    0.0|[2.37396197071794...|[0.91482010212770...|       0.0|\n",
            "|[0.0,91.0,80.0,20...|    0.0|[2.57197052327726...|[0.92903571915015...|       0.0|\n",
            "|[0.0,93.0,60.0,20...|    0.0|[2.50182932549063...|[0.92426996303332...|       0.0|\n",
            "|[0.0,93.0,60.0,20...|    0.0|[2.50182932549063...|[0.92426996303332...|       0.0|\n",
            "+--------------------+-------+--------------------+--------------------+----------+\n",
            "only showing top 20 rows\n",
            "\n",
            "+-------+------------------+------------------+\n",
            "|summary|           Outcome|        prediction|\n",
            "+-------+------------------+------------------+\n",
            "|  count|              1416|              1416|\n",
            "|   mean| 0.327683615819209|0.2514124293785311|\n",
            "| stddev|0.4695346182986282|0.4339783707147489|\n",
            "|    min|               0.0|               0.0|\n",
            "|    max|               1.0|               1.0|\n",
            "+-------+------------------+------------------+\n",
            "\n"
          ]
        }
      ]
    },
    {
      "cell_type": "markdown",
      "source": [
        "## Evaluation du modèle"
      ],
      "metadata": {
        "id": "1aCSdTMPPNQl"
      }
    },
    {
      "cell_type": "markdown",
      "source": [
        "`BinaryClassificationEvaluator` de pysparkML est un outil d'évaluation qui permet de **mesurer la performance d'un modèle de classification binaire**. Il fournit des métriques telles que la `précision`, le `rappel (recall`), l'`aire sous la courbe ROC (AUC) : par défaut` et la `précision-rappel`. Ces métriques peuvent être utilisées pour comparer les **performances** des modèles et ainsi déterminer le meilleur modèle à utiliser."
      ],
      "metadata": {
        "id": "aznccM13QuQm"
      }
    },
    {
      "cell_type": "code",
      "source": [
        "# feed test data in the model and evaluate it\n",
        "predictions = model.evaluate(test)"
      ],
      "metadata": {
        "id": "ijAp9hUDPEks"
      },
      "execution_count": 39,
      "outputs": []
    },
    {
      "cell_type": "code",
      "source": [
        "# voir les prédictions\n",
        "predictions.predictions.show(15)"
      ],
      "metadata": {
        "colab": {
          "base_uri": "https://localhost:8080/"
        },
        "id": "b4KRqpNjPQcP",
        "outputId": "d2ea3038-ee89-4892-eaee-9f752da9e8cd"
      },
      "execution_count": 42,
      "outputs": [
        {
          "output_type": "stream",
          "name": "stdout",
          "text": [
            "+--------------------+-------+--------------------+--------------------+----------+\n",
            "|            features|Outcome|       rawPrediction|         probability|prediction|\n",
            "+--------------------+-------+--------------------+--------------------+----------+\n",
            "|[0.0,73.0,69.0,20...|      0|[4.30571835570287...|[0.98668839876298...|       0.0|\n",
            "|[0.0,78.0,88.0,29...|      0|[2.83901818968011...|[0.94474823506578...|       0.0|\n",
            "|[0.0,84.0,64.0,22...|      0|[2.62281665948290...|[0.93231566313563...|       0.0|\n",
            "|[0.0,84.0,64.0,22...|      0|[2.62281665948290...|[0.93231566313563...|       0.0|\n",
            "|[0.0,84.0,82.0,31...|      0|[2.77536879386290...|[0.94133019594463...|       0.0|\n",
            "|[0.0,91.0,68.0,32...|      0|[2.37396197071794...|[0.91482010212770...|       0.0|\n",
            "|[0.0,91.0,80.0,20...|      0|[2.57197052327726...|[0.92903571915015...|       0.0|\n",
            "|[0.0,93.0,60.0,25...|      0|[2.87871469953420...|[0.94678414228822...|       0.0|\n",
            "|[0.0,94.0,69.0,20...|      0|[2.74622565305314...|[0.93969983462034...|       0.0|\n",
            "|[0.0,94.0,70.0,27...|      0|[1.89623482748223...|[0.86946478862046...|       0.0|\n",
            "|[0.0,94.0,70.0,27...|      0|[1.89623482748223...|[0.86946478862046...|       0.0|\n",
            "|[0.0,95.0,80.0,45...|      0|[2.32536774084710...|[0.91095630604012...|       0.0|\n",
            "|[0.0,95.0,85.0,25...|      1|[2.26065820279169...|[0.90556593312755...|       0.0|\n",
            "|[0.0,95.0,85.0,25...|      1|[2.26065820279169...|[0.90556593312755...|       0.0|\n",
            "|[0.0,97.0,64.0,36...|      0|[2.02993670671921...|[0.88390458310507...|       0.0|\n",
            "+--------------------+-------+--------------------+--------------------+----------+\n",
            "only showing top 15 rows\n",
            "\n"
          ]
        }
      ]
    },
    {
      "cell_type": "markdown",
      "source": [
        "Dans la plupart des cas (sur les 15 lignes affichées), le modèle de regression prédit bien le résultats."
      ],
      "metadata": {
        "id": "rBI-mEaFS685"
      }
    },
    {
      "cell_type": "code",
      "source": [
        "from pyspark.ml import evaluation\n",
        "# évaluer le modèle\n",
        "evaluator = BinaryClassificationEvaluator(rawPredictionCol='rawPrediction', labelCol='Outcome')\n",
        "evaluator.evaluate(model.transform(test))"
      ],
      "metadata": {
        "colab": {
          "base_uri": "https://localhost:8080/"
        },
        "id": "MkocDteKR2RZ",
        "outputId": "947e07c8-30bc-41c0-ffe8-cbe479e3d9f9"
      },
      "execution_count": 44,
      "outputs": [
        {
          "output_type": "execute_result",
          "data": {
            "text/plain": [
              "0.8306818181818183"
            ]
          },
          "metadata": {},
          "execution_count": 44
        }
      ]
    },
    {
      "cell_type": "markdown",
      "source": [
        "Les résultats montrent que le modèle de régression a une **précision** de **83%**, ce qui est assez bon. Cela signifie que le modèle est capable de prédire avec une précision élevée si un individu aura un résultat positif (malade) ou négatif (diabétique)."
      ],
      "metadata": {
        "id": "i38jp0GKTkT3"
      }
    },
    {
      "cell_type": "markdown",
      "source": [
        "## Sauvegarder le modèle"
      ],
      "metadata": {
        "id": "-HLKyHG8vonn"
      }
    },
    {
      "cell_type": "markdown",
      "source": [
        "> On sauvegarde un modèle de machine learning afin de pouvoir le réutiliser à l'avenir. En effet, une fois que le modèle a été entraîné et qu'il fonctionne de manière optimale, il est important de le sauvegarder afin de pouvoir le réutiliser pour de nouvelles prédictions. Cela permettra d'économiser du temps et des ressources, car il n'est pas nécessaire de retrainer le modèle pour chaque nouvelle prédiction."
      ],
      "metadata": {
        "id": "KEPrXcmfvse4"
      }
    },
    {
      "cell_type": "code",
      "source": [
        "model.save(\"LogReg_model\")"
      ],
      "metadata": {
        "id": "STGmhRsixv1e"
      },
      "execution_count": null,
      "outputs": []
    },
    {
      "cell_type": "markdown",
      "source": [
        "## Réutiliser le modèle sauvegardé"
      ],
      "metadata": {
        "id": "TfM7k-DIyLG0"
      }
    },
    {
      "cell_type": "code",
      "source": [
        "model = LogisticRegressionModel.load('LogReg_model')"
      ],
      "metadata": {
        "id": "LAnEb5oGUNDZ"
      },
      "execution_count": 51,
      "outputs": []
    },
    {
      "cell_type": "markdown",
      "source": [
        "## Sources :"
      ],
      "metadata": {
        "id": "zfwVDwf5yckm"
      }
    },
    {
      "cell_type": "markdown",
      "source": [
        "[School of Disruptive Innovation](https://www.udemy.com/course/data-science-hands-on-diabetes-prediction-with-pyspark-mllib/learn/lecture/20880872#overview)"
      ],
      "metadata": {
        "id": "O352BLygyx0h"
      }
    }
  ]
}